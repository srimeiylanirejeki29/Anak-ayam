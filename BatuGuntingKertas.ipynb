{
  "nbformat": 4,
  "nbformat_minor": 0,
  "metadata": {
    "colab": {
      "name": "BatuGuntingKertas.ipynb",
      "provenance": [],
      "authorship_tag": "ABX9TyOvtn4eXpzby61UoLFl6W6W",
      "include_colab_link": true
    },
    "kernelspec": {
      "name": "python3",
      "display_name": "Python 3"
    },
    "language_info": {
      "name": "python"
    }
  },
  "cells": [
    {
      "cell_type": "markdown",
      "metadata": {
        "id": "view-in-github",
        "colab_type": "text"
      },
      "source": [
        "<a href=\"https://colab.research.google.com/github/srimeiylanirejeki29/Anak-ayam/blob/main/BatuGuntingKertas.ipynb\" target=\"_parent\"><img src=\"https://colab.research.google.com/assets/colab-badge.svg\" alt=\"Open In Colab\"/></a>"
      ]
    },
    {
      "cell_type": "code",
      "execution_count": 1,
      "metadata": {
        "colab": {
          "base_uri": "https://localhost:8080/"
        },
        "id": "_hN-qbZHzkwW",
        "outputId": "a4c451be-b767-4653-c435-eab92db136f5"
      },
      "outputs": [
        {
          "output_type": "stream",
          "name": "stdout",
          "text": [
            "Hello world 1\n"
          ]
        }
      ],
      "source": [
        "print (\"Hello world 1\")\n"
      ]
    },
    {
      "cell_type": "markdown",
      "source": [
        ""
      ],
      "metadata": {
        "id": "_PESafwf0-YQ"
      }
    },
    {
      "cell_type": "markdown",
      "source": [
        ""
      ],
      "metadata": {
        "id": "yQvsLf830_M9"
      }
    },
    {
      "cell_type": "code",
      "source": [
        "print (\"Hello world 2\")"
      ],
      "metadata": {
        "colab": {
          "base_uri": "https://localhost:8080/"
        },
        "id": "ljajiocG1CKC",
        "outputId": "a439eec2-9418-4f95-b188-7efd434ce0ef"
      },
      "execution_count": 2,
      "outputs": [
        {
          "output_type": "stream",
          "name": "stdout",
          "text": [
            "Hello world 2\n"
          ]
        }
      ]
    },
    {
      "cell_type": "code",
      "source": [
        "print (\"Hello world 3\")"
      ],
      "metadata": {
        "colab": {
          "base_uri": "https://localhost:8080/"
        },
        "id": "YMLVx28b1MCU",
        "outputId": "60b2489b-8d17-46b6-e072-598d9bb29eb4"
      },
      "execution_count": 3,
      "outputs": [
        {
          "output_type": "stream",
          "name": "stdout",
          "text": [
            "Hello world 3\n"
          ]
        }
      ]
    },
    {
      "cell_type": "code",
      "source": [
        "from random import randint \n",
        "def validate (hand):\n",
        "  if hand < 0 or hand > 2:\n",
        "    return false\n",
        "  return true\n",
        "\n",
        "def print_hand (hand, name='Tamu'):\n",
        "  hands = ['Batu', 'Kertas', 'Gunting']\n",
        "  print (name + 'memilih :' + hands[hand])\n",
        "def judge (player, computer):\n",
        "  if player == computer:\n",
        "    return 'seri'\n",
        "  elif player == 0 and computer == 1:\n",
        "    return 'kalah'\n",
        "  elif player == 1 and computer == 2:\n",
        "    return 'kalah'\n",
        "  elif player == 2 and computer == 0:\n",
        "    return 'kalah'\n",
        "  else :\n",
        "      return 'Menang'\n",
        "      print ('pilh tangan : (0: Batu, 1: kertas, 2: Gunting)')\n",
        "      player_hand = int (input ('Masukan nomor (0-2):'))\n",
        "      if validate (player_hand):\n",
        "        computer_hand = randint(0,2)\n",
        "        print_hand (player_hand, player_name)\n",
        "        print_hand (computer_hand,'Komputer')\n",
        "        result = judge (player_hand, computer_hand)\n",
        "        print ('Hasil :'+result)\n",
        "        play_again = input(\"Play again? (y/n) :\")\n",
        "        if play-again.lower()!= \"y\":\n",
        "    break\n",
        "        else :\n",
        "            print ('Mohon masukan nomor yang benar')"
      ],
      "metadata": {
        "colab": {
          "base_uri": "https://localhost:8080/",
          "height": 135
        },
        "id": "3rDr2VjZ1iLj",
        "outputId": "789b8987-6706-41df-bf80-f6ab1659dcf5"
      },
      "execution_count": 20,
      "outputs": [
        {
          "output_type": "error",
          "ename": "IndentationError",
          "evalue": "ignored",
          "traceback": [
            "\u001b[0;36m  File \u001b[0;32m\"<ipython-input-20-1ce7e6c82aa0>\"\u001b[0;36m, line \u001b[0;32m31\u001b[0m\n\u001b[0;31m    break\u001b[0m\n\u001b[0m         ^\u001b[0m\n\u001b[0;31mIndentationError\u001b[0m\u001b[0;31m:\u001b[0m unindent does not match any outer indentation level\n"
          ]
        }
      ]
    }
  ]
}